{
 "cells": [
  {
   "cell_type": "markdown",
   "metadata": {
    "id": "uWFwrLZbDfiK"
   },
   "source": [
    "# bart"
   ]
  },
  {
   "cell_type": "code",
   "execution_count": null,
   "metadata": {
    "colab": {
     "base_uri": "https://localhost:8080/"
    },
    "id": "gnEmnkz8Drx8",
    "outputId": "08c6a02c-1ebe-4e9c-b2f7-2cc32192b155"
   },
   "outputs": [
    {
     "name": "stdout",
     "output_type": "stream",
     "text": [
      "Collecting transformers\n",
      "  Downloading transformers-4.18.0-py3-none-any.whl (4.0 MB)\n",
      "\u001b[K     |████████████████████████████████| 4.0 MB 4.4 MB/s \n",
      "\u001b[?25hCollecting sacremoses\n",
      "  Downloading sacremoses-0.0.53.tar.gz (880 kB)\n",
      "\u001b[K     |████████████████████████████████| 880 kB 43.4 MB/s \n",
      "\u001b[?25hCollecting tokenizers!=0.11.3,<0.13,>=0.11.1\n",
      "  Downloading tokenizers-0.12.1-cp37-cp37m-manylinux_2_12_x86_64.manylinux2010_x86_64.whl (6.6 MB)\n",
      "\u001b[K     |████████████████████████████████| 6.6 MB 38.5 MB/s \n",
      "\u001b[?25hRequirement already satisfied: importlib-metadata in /usr/local/lib/python3.7/dist-packages (from transformers) (4.11.3)\n",
      "Requirement already satisfied: regex!=2019.12.17 in /usr/local/lib/python3.7/dist-packages (from transformers) (2019.12.20)\n",
      "Requirement already satisfied: packaging>=20.0 in /usr/local/lib/python3.7/dist-packages (from transformers) (21.3)\n",
      "Collecting pyyaml>=5.1\n",
      "  Downloading PyYAML-6.0-cp37-cp37m-manylinux_2_5_x86_64.manylinux1_x86_64.manylinux_2_12_x86_64.manylinux2010_x86_64.whl (596 kB)\n",
      "\u001b[K     |████████████████████████████████| 596 kB 38.8 MB/s \n",
      "\u001b[?25hRequirement already satisfied: numpy>=1.17 in /usr/local/lib/python3.7/dist-packages (from transformers) (1.21.6)\n",
      "Requirement already satisfied: requests in /usr/local/lib/python3.7/dist-packages (from transformers) (2.23.0)\n",
      "Requirement already satisfied: tqdm>=4.27 in /usr/local/lib/python3.7/dist-packages (from transformers) (4.64.0)\n",
      "Requirement already satisfied: filelock in /usr/local/lib/python3.7/dist-packages (from transformers) (3.6.0)\n",
      "Collecting huggingface-hub<1.0,>=0.1.0\n",
      "  Downloading huggingface_hub-0.5.1-py3-none-any.whl (77 kB)\n",
      "\u001b[K     |████████████████████████████████| 77 kB 4.5 MB/s \n",
      "\u001b[?25hRequirement already satisfied: typing-extensions>=3.7.4.3 in /usr/local/lib/python3.7/dist-packages (from huggingface-hub<1.0,>=0.1.0->transformers) (4.2.0)\n",
      "Requirement already satisfied: pyparsing!=3.0.5,>=2.0.2 in /usr/local/lib/python3.7/dist-packages (from packaging>=20.0->transformers) (3.0.8)\n",
      "Requirement already satisfied: zipp>=0.5 in /usr/local/lib/python3.7/dist-packages (from importlib-metadata->transformers) (3.8.0)\n",
      "Requirement already satisfied: urllib3!=1.25.0,!=1.25.1,<1.26,>=1.21.1 in /usr/local/lib/python3.7/dist-packages (from requests->transformers) (1.24.3)\n",
      "Requirement already satisfied: idna<3,>=2.5 in /usr/local/lib/python3.7/dist-packages (from requests->transformers) (2.10)\n",
      "Requirement already satisfied: certifi>=2017.4.17 in /usr/local/lib/python3.7/dist-packages (from requests->transformers) (2021.10.8)\n",
      "Requirement already satisfied: chardet<4,>=3.0.2 in /usr/local/lib/python3.7/dist-packages (from requests->transformers) (3.0.4)\n",
      "Requirement already satisfied: six in /usr/local/lib/python3.7/dist-packages (from sacremoses->transformers) (1.15.0)\n",
      "Requirement already satisfied: click in /usr/local/lib/python3.7/dist-packages (from sacremoses->transformers) (7.1.2)\n",
      "Requirement already satisfied: joblib in /usr/local/lib/python3.7/dist-packages (from sacremoses->transformers) (1.1.0)\n",
      "Building wheels for collected packages: sacremoses\n",
      "  Building wheel for sacremoses (setup.py) ... \u001b[?25l\u001b[?25hdone\n",
      "  Created wheel for sacremoses: filename=sacremoses-0.0.53-py3-none-any.whl size=895260 sha256=437d9b7a94d811161161c1f1ad5d5201ae81801c28d33bff03198702c8f4819a\n",
      "  Stored in directory: /root/.cache/pip/wheels/87/39/dd/a83eeef36d0bf98e7a4d1933a4ad2d660295a40613079bafc9\n",
      "Successfully built sacremoses\n",
      "Installing collected packages: pyyaml, tokenizers, sacremoses, huggingface-hub, transformers\n",
      "  Attempting uninstall: pyyaml\n",
      "    Found existing installation: PyYAML 3.13\n",
      "    Uninstalling PyYAML-3.13:\n",
      "      Successfully uninstalled PyYAML-3.13\n",
      "Successfully installed huggingface-hub-0.5.1 pyyaml-6.0 sacremoses-0.0.53 tokenizers-0.12.1 transformers-4.18.0\n"
     ]
    }
   ],
   "source": [
    "!pip install transformers\n",
    "\n"
   ]
  },
  {
   "cell_type": "code",
   "execution_count": null,
   "metadata": {
    "colab": {
     "base_uri": "https://localhost:8080/"
    },
    "id": "gYmI66_blaoC",
    "outputId": "4205f47e-b158-4db5-b5d1-188697d68c58"
   },
   "outputs": [
    {
     "name": "stderr",
     "output_type": "stream",
     "text": [
      "All model checkpoint layers were used when initializing TFGPT2LMHeadModel.\n",
      "\n",
      "All the layers of TFGPT2LMHeadModel were initialized from the model checkpoint at gpt2.\n",
      "If your task is similar to the task the model of the checkpoint was trained on, you can already use TFGPT2LMHeadModel for predictions without further training.\n"
     ]
    }
   ],
   "source": [
    "import tensorflow as tf\n",
    "from transformers import TFGPT2LMHeadModel, GPT2Tokenizer\n",
    "import re\n",
    "tokenizer = GPT2Tokenizer.from_pretrained(\"gpt2\")\n",
    "model = TFGPT2LMHeadModel.from_pretrained(\"gpt2\", pad_token_id=tokenizer.eos_token_id)"
   ]
  },
  {
   "cell_type": "code",
   "execution_count": null,
   "metadata": {
    "id": "5pXIf0jFk55Q"
   },
   "outputs": [],
   "source": [
    "\n",
    "\n",
    "def event_generation(n):\n",
    "  s='''1. Event: PersonX unwraps PersonY's hands\n",
    "  2. Event: PersonX overcomes evil with good\n",
    "  3. Event: PersonX is fed up with the present situation\n",
    "  4. Event: PersonX breaks PersonX's back\n",
    "  5. Event: PersonX calls no one\n",
    "  6. Event: PersonX never gets angry\n",
    "  7. Event: PersonX does not learn from PersonY\n",
    "  8. Event: PersonX refuses to touch PersonY's hands\n",
    "  9. Event: PersonX looks at flowers\n",
    "  10. Event: PersonX unloads an atomic bomb\n",
    "  11. Event: '''\n",
    "\n",
    "  input_ids = tokenizer.encode(s, return_tensors='tf')\n",
    "\n",
    "# generate text until the output length (which includes the context length) reaches 50\n",
    "#   greedy_output = model.generate(input_ids, max_length=200)\n",
    "  # set seed to reproduce results. Feel free to change the seed though to get different results\n",
    "  tf.random.set_seed(10)\n",
    "\n",
    "  # set top_k = 50 and set top_p = 0.95 and num_return_sequences = 3\n",
    "  sample_outputs = model.generate(\n",
    "      input_ids,\n",
    "      do_sample=True, \n",
    "      max_length=180, \n",
    "      top_k=50, \n",
    "      top_p=0.95, \n",
    "      temperature=0.5,\n",
    "      num_return_sequences= n \n",
    "  )\n",
    "  list2 = []\n",
    "  for i, sample_output in enumerate(sample_outputs):\n",
    "    s = str(tokenizer.decode(sample_output, skip_special_tokens=True))\n",
    "    s2 = re.findall(\"11. Event:(.*?)\\n\", s)[0]\n",
    "    s2 = s2.replace('\\xa0', '')\n",
    "    # generated_text = str(tokenizer.decode(sample_output, skip_special_tokens=True))\n",
    "\n",
    "    list2.append(s2)\n",
    "  return list2\n",
    "\n",
    "# pattern = re.compile(r'.?instance.?(\\w).')\n",
    "# bs64_str = re.findall(\"11. Event:(.*?)12\", txt)[0]\n",
    "# for i, sample_output in enumerate(sample_outputs):\n",
    "\n",
    "#   print(s2)\n",
    "\n",
    "\n"
   ]
  },
  {
   "cell_type": "code",
   "execution_count": null,
   "metadata": {
    "colab": {
     "base_uri": "https://localhost:8080/"
    },
    "id": "-DaHLdw2lefT",
    "outputId": "fd4e6677-b8cc-46d9-efd9-473dea767cb4"
   },
   "outputs": [
    {
     "data": {
      "text/plain": [
       "[\" PersonX grabs PersonY's hand\",\n",
       " ' PersonX has a baby',\n",
       " ' PersonX is taken to a hospital',\n",
       " ' PersonX is killed by a nuclear bomb',\n",
       " ' PersonX gives PersonY a kiss',\n",
       " ' PersonX gets angry',\n",
       " \" PersonX's body explodes\",\n",
       " ' PersonY walks away',\n",
       " ' PersonX is killed by the bomb',\n",
       " \" PersonY's hand is broken\"]"
      ]
     },
     "execution_count": 14,
     "metadata": {},
     "output_type": "execute_result"
    }
   ],
   "source": [
    "event_generation(10)"
   ]
  },
  {
   "cell_type": "code",
   "execution_count": null,
   "metadata": {
    "id": "a7WAV0mms6ef"
   },
   "outputs": [],
   "source": []
  },
  {
   "cell_type": "markdown",
   "metadata": {
    "id": "vA0afUpws69Z"
   },
   "source": [
    "# 尝试XLNet"
   ]
  },
  {
   "cell_type": "code",
   "execution_count": null,
   "metadata": {
    "colab": {
     "base_uri": "https://localhost:8080/"
    },
    "id": "J5NeGPUduw0h",
    "outputId": "e6b7deff-6158-463f-80bf-c913399d9c08"
   },
   "outputs": [
    {
     "name": "stdout",
     "output_type": "stream",
     "text": [
      "Requirement already satisfied: transformers in /usr/local/lib/python3.7/dist-packages (4.18.0)\n",
      "Requirement already satisfied: sacremoses in /usr/local/lib/python3.7/dist-packages (from transformers) (0.0.53)\n",
      "Requirement already satisfied: numpy>=1.17 in /usr/local/lib/python3.7/dist-packages (from transformers) (1.21.6)\n",
      "Requirement already satisfied: filelock in /usr/local/lib/python3.7/dist-packages (from transformers) (3.6.0)\n",
      "Requirement already satisfied: requests in /usr/local/lib/python3.7/dist-packages (from transformers) (2.23.0)\n",
      "Requirement already satisfied: tqdm>=4.27 in /usr/local/lib/python3.7/dist-packages (from transformers) (4.64.0)\n",
      "Requirement already satisfied: huggingface-hub<1.0,>=0.1.0 in /usr/local/lib/python3.7/dist-packages (from transformers) (0.5.1)\n",
      "Requirement already satisfied: importlib-metadata in /usr/local/lib/python3.7/dist-packages (from transformers) (4.11.3)\n",
      "Requirement already satisfied: packaging>=20.0 in /usr/local/lib/python3.7/dist-packages (from transformers) (21.3)\n",
      "Requirement already satisfied: regex!=2019.12.17 in /usr/local/lib/python3.7/dist-packages (from transformers) (2019.12.20)\n",
      "Requirement already satisfied: tokenizers!=0.11.3,<0.13,>=0.11.1 in /usr/local/lib/python3.7/dist-packages (from transformers) (0.12.1)\n",
      "Requirement already satisfied: pyyaml>=5.1 in /usr/local/lib/python3.7/dist-packages (from transformers) (6.0)\n",
      "Requirement already satisfied: typing-extensions>=3.7.4.3 in /usr/local/lib/python3.7/dist-packages (from huggingface-hub<1.0,>=0.1.0->transformers) (4.2.0)\n",
      "Requirement already satisfied: pyparsing!=3.0.5,>=2.0.2 in /usr/local/lib/python3.7/dist-packages (from packaging>=20.0->transformers) (3.0.8)\n",
      "Requirement already satisfied: zipp>=0.5 in /usr/local/lib/python3.7/dist-packages (from importlib-metadata->transformers) (3.8.0)\n",
      "Requirement already satisfied: certifi>=2017.4.17 in /usr/local/lib/python3.7/dist-packages (from requests->transformers) (2021.10.8)\n",
      "Requirement already satisfied: chardet<4,>=3.0.2 in /usr/local/lib/python3.7/dist-packages (from requests->transformers) (3.0.4)\n",
      "Requirement already satisfied: urllib3!=1.25.0,!=1.25.1,<1.26,>=1.21.1 in /usr/local/lib/python3.7/dist-packages (from requests->transformers) (1.24.3)\n",
      "Requirement already satisfied: idna<3,>=2.5 in /usr/local/lib/python3.7/dist-packages (from requests->transformers) (2.10)\n",
      "Requirement already satisfied: six in /usr/local/lib/python3.7/dist-packages (from sacremoses->transformers) (1.15.0)\n",
      "Requirement already satisfied: joblib in /usr/local/lib/python3.7/dist-packages (from sacremoses->transformers) (1.1.0)\n",
      "Requirement already satisfied: click in /usr/local/lib/python3.7/dist-packages (from sacremoses->transformers) (7.1.2)\n",
      "Collecting sentencepiece\n",
      "  Downloading sentencepiece-0.1.96-cp37-cp37m-manylinux_2_17_x86_64.manylinux2014_x86_64.whl (1.2 MB)\n",
      "\u001b[K     |████████████████████████████████| 1.2 MB 4.1 MB/s \n",
      "\u001b[?25hInstalling collected packages: sentencepiece\n",
      "Successfully installed sentencepiece-0.1.96\n"
     ]
    }
   ],
   "source": [
    "!pip install transformers\n",
    "!pip install sentencepiece"
   ]
  },
  {
   "cell_type": "code",
   "execution_count": null,
   "metadata": {
    "colab": {
     "base_uri": "https://localhost:8080/",
     "height": 113,
     "referenced_widgets": [
      "7e6645c6c5e942d7accf49e7ae170a49",
      "801dc2cecc024902a3575aaced272ca9",
      "488ea705a6364274a7fcaa017e0fec88",
      "31f2ada09d7e4271b59481f222cf3ba6",
      "5fe481619ae74f3eaa51d5f2f208a809",
      "07f5b14b4926496b99932c8fd77c02cf",
      "55e41ea0146d4e68a1114f066aa3e8a5",
      "c38460acc20e4cacb66a82fd5b8539e5",
      "1a61c6586e9e44a1966284e27eed9207",
      "6b2017637b7d4c98883a2ddd081cfe07",
      "ce725b8677ab4b3ead0c664a93f1a0ba",
      "f9684a459ff2458a9ebdbd3fe7d76ce5",
      "e7d1c8bbe31444138771293cda8144d3",
      "51d98fd6823b4edc86a2d0db859bbb10",
      "c399d712bc214bcba27471ae9a0b8a11",
      "bae804555c89488b9280f0208323a511",
      "ac21cf8395a546d7ba93668dd485801a",
      "0d9afc05da3a4b11a5919162faa9b486",
      "b59ae1ce44104b919bc5db17540ba090",
      "304299feea17482c8f1aa6730d76bb28",
      "74814e49044641f8a4e322416bdf5939",
      "42be35028e364326ada27fc55d9050a3",
      "8c56e99ae0524db3829886e3fbe37776",
      "cc8a412f3bc747febb285a5162cb55c4",
      "0b83005365974d2a869ca216701901f9",
      "105b655cc7eb4b4d8255a0f29afeaa96",
      "f2ce8a5955794884ae0bc94d2a11b9f8",
      "da972c7389e4483fba654c9fb028f996",
      "d9ae9cdf466640bf9a76f295801bfadd",
      "1356546f84b74c0eaa442d0e846c238f",
      "0260d3d5bb4c4ae49517d1ff68f804f8",
      "2987056e0664492f89c50e471ab88c52",
      "bda4f0335cd34c2cbbfa772b9d56a97c"
     ]
    },
    "id": "rNwIkERIs85o",
    "outputId": "56906ce8-09ff-4c2e-905f-9856ee086c54"
   },
   "outputs": [
    {
     "data": {
      "application/vnd.jupyter.widget-view+json": {
       "model_id": "7e6645c6c5e942d7accf49e7ae170a49",
       "version_major": 2,
       "version_minor": 0
      },
      "text/plain": [
       "Downloading:   0%|          | 0.00/779k [00:00<?, ?B/s]"
      ]
     },
     "metadata": {},
     "output_type": "display_data"
    },
    {
     "data": {
      "application/vnd.jupyter.widget-view+json": {
       "model_id": "f9684a459ff2458a9ebdbd3fe7d76ce5",
       "version_major": 2,
       "version_minor": 0
      },
      "text/plain": [
       "Downloading:   0%|          | 0.00/761 [00:00<?, ?B/s]"
      ]
     },
     "metadata": {},
     "output_type": "display_data"
    },
    {
     "data": {
      "application/vnd.jupyter.widget-view+json": {
       "model_id": "8c56e99ae0524db3829886e3fbe37776",
       "version_major": 2,
       "version_minor": 0
      },
      "text/plain": [
       "Downloading:   0%|          | 0.00/1.34G [00:00<?, ?B/s]"
      ]
     },
     "metadata": {},
     "output_type": "display_data"
    }
   ],
   "source": [
    "from transformers import XLNetTokenizer, XLNetLMHeadModel\n",
    "import tensorflow as tf\n",
    "# import tensorflow as tf\n",
    "\n",
    "# from transformers import TFGPT2LMHeadModel, GPT2Tokenizer\n",
    "import re\n",
    "tokenizer = XLNetTokenizer.from_pretrained('xlnet-large-cased')\n",
    "model = XLNetLMHeadModel.from_pretrained('xlnet-large-cased')"
   ]
  },
  {
   "cell_type": "code",
   "execution_count": null,
   "metadata": {
    "id": "FezgeqWa9-3r"
   },
   "outputs": [],
   "source": [
    "# Predict mentioned words in a sentence with XLNet\n",
    "\n",
    "from transformers import XLNetTokenizer, XLNetLMHeadModel\n",
    "import torch\n",
    "\n",
    "tokenizer = XLNetTokenizer.from_pretrained('xlnet-large-cased')\n",
    "model = XLNetLMHeadModel.from_pretrained('xlnet-large-cased')"
   ]
  },
  {
   "cell_type": "code",
   "execution_count": null,
   "metadata": {
    "id": "cAK8Vr7LA7Ve"
   },
   "outputs": [],
   "source": [
    "import numpy as np\n",
    "import tensorflow as tf"
   ]
  },
  {
   "cell_type": "code",
   "execution_count": null,
   "metadata": {
    "id": "4dtQFcJ2AoBa"
   },
   "outputs": [],
   "source": [
    "# Padding text to help Transformer-XL and XLNet with short prompts as proposed by Aman Rusia\n",
    "# in https://github.com/rusiaaman/XLNet-gen#methodology\n",
    "# and https://medium.com/@amanrusia/xlnet-speaks-comparison-to-gpt-2-ea1a4e9ba39e\n",
    "PADDING_TEXT = \"\"\"In 1991, the remains of Russian Tsar Nicholas II and his family\n",
    "(except for Alexei and Maria) are discovered.\n",
    "The voice of Nicholas's young son, Tsarevich Alexei Nikolaevich, narrates the\n",
    "remainder of the story. 1883 Western Siberia,\n",
    "a young Grigori Rasputin is asked by his father and a group of men to perform magic.\n",
    "Rasputin has a vision and denounces one of the men as a horse thief. Although his\n",
    "father initially slaps him for making such an accusation, Rasputin watches as the\n",
    "man is chased outside and beaten. Twenty years later, Rasputin sees a vision of\n",
    "the Virgin Mary, prompting him to become a priest. Rasputin quickly becomes famous,\n",
    "with people, even a bishop, begging for his blessing. <eod> </s> <eos>\"\"\""
   ]
  },
  {
   "cell_type": "code",
   "execution_count": null,
   "metadata": {
    "id": "6hco5DpqAc9u"
   },
   "outputs": [],
   "source": [
    "# create a combination of beam and top-k generation to generate sequences of n tokens from both sides \n",
    "\n",
    "import random\n",
    "\n",
    "padding_tokens = tokenizer.encode(PADDING_TEXT, add_special_tokens=False)\n",
    "mask_tokens = tokenizer.encode('<mask>', add_special_tokens=False)\n",
    "\n",
    "model.eval()\n",
    "if torch.cuda.is_available(): model.to('cuda') #if we have a GPU \n",
    "\n",
    "def candidates_gen(sent_tokens, candidate=([], 1, []), d='left', n_candidates=5, topk=20, temperature=5):\n",
    "  branch_candidates = []  \n",
    "  cand_tokens = candidate[0]\n",
    "  \n",
    "  if d == 'right':    \n",
    "    input = sent_tokens + cand_tokens + mask_tokens     \n",
    "    \n",
    "    target_id = -1\n",
    "    input_ids = torch.tensor(padding_tokens + input).unsqueeze(0)  \n",
    "\n",
    "    perm_mask = torch.zeros((1, input_ids.shape[1], input_ids.shape[1]), dtype=torch.float)\n",
    "    perm_mask[0, :, target_id] = 1.0  # Previous tokens don't see last token\n",
    "  else:        \n",
    "    input = mask_tokens + cand_tokens + sent_tokens    \n",
    "    \n",
    "    target_id = -len(input)  \n",
    "    input_ids = torch.tensor(padding_tokens + input).unsqueeze(0)  \n",
    "\n",
    "    perm_mask = torch.zeros((1, input_ids.shape[1], input_ids.shape[1]), dtype=torch.float)\n",
    "    perm_mask[0, :, [target_id - i for i in range(100)]] = 1.0  # Mask additional previos tokens to improve left-side generation\n",
    "\n",
    "  # We will predict masked tokens \n",
    "  target_mapping = torch.zeros((1, 1, input_ids.shape[1]), dtype=torch.float)  \n",
    "  target_mapping[0, 0, target_id] = 1.0  # Our right  prediction \n",
    "\n",
    "  if torch.cuda.is_available():\n",
    "    input_ids_tensor = input_ids.to(\"cuda\")\n",
    "    target_mapping_tensor = target_mapping.to(\"cuda\")\n",
    "    perm_mask_tensor = perm_mask.to(\"cuda\")\n",
    "  else:\n",
    "    input_ids_tensor = input_ids\n",
    "    target_mapping_tensor = target_mapping\n",
    "    perm_mask_tensor = perm_mask\n",
    "\n",
    "  with torch.no_grad():\n",
    "    outputs = model(input_ids_tensor, perm_mask=perm_mask_tensor, target_mapping=target_mapping_tensor)\n",
    "\n",
    "  probs = torch.nn.functional.softmax(outputs[0][0][0]/temperature, dim = 0)\n",
    "  selected_indexes = choose_from_top(probs.to('cpu').numpy(), k=topk, sample_size=n_candidates)\n",
    "  selected_probs = probs[selected_indexes]\n",
    "\n",
    "  for i,item  in enumerate(selected_indexes):\n",
    "      the_index = item.item()\n",
    "      if d == \"right\":\n",
    "        new_sent = cand_tokens + [the_index]\n",
    "      elif d == \"left\":\n",
    "        new_sent = [the_index] + cand_tokens\n",
    "      \n",
    "      prob = selected_probs[i].item()\n",
    "      # add word combinations to branch_candidates in format [sentence, cumulative probability, all probs]\n",
    "      branch_candidates.append((new_sent, candidate[1] * prob, candidate[2] + [prob]))\n",
    "  \n",
    "  return branch_candidates"
   ]
  },
  {
   "cell_type": "code",
   "execution_count": null,
   "metadata": {
    "id": "ohF7icdOAwWt"
   },
   "outputs": [],
   "source": [
    "def choose_from_top(probs, k=5, sample_size=1):\n",
    "    ind = np.argpartition(probs, -k)[-k:]\n",
    "    top_prob = probs[ind]\n",
    "    # print(tokenizer.decode(ind))\n",
    "    top_prob = top_prob / np.sum(top_prob) # Normalize\n",
    "    choice = np.random.choice(k, sample_size, p = top_prob, replace=False)\n",
    "    token_ids = ind[choice]\n",
    "    return token_ids"
   ]
  },
  {
   "cell_type": "code",
   "execution_count": null,
   "metadata": {
    "id": "iG4yxtiUAV5d"
   },
   "outputs": [],
   "source": [
    "def beam_gen(sent_tokens, candidates, depth=5, d='right', sample_size=2, topk=10, temperature=5):\n",
    "  beams = candidates[:]\n",
    "  new_candidates = candidates[:]\n",
    "  while depth > 0:\n",
    "    new_candidates = []\n",
    "    for candidate in candidates:\n",
    "      for new_candidate in candidates_gen(sent_tokens, candidate, d, sample_size, topk, temperature):\n",
    "        beams.append(new_candidate)\n",
    "        new_candidates.append(new_candidate)   \n",
    "    print(\"Number of beams:\", len(new_candidates))    \n",
    "    candidates = new_candidates[:]\n",
    "    depth -= 1\n",
    "  # sort candidate beams by a sum of logaryphms of probability of each word in a beam. Which is equivalet to product of probabilities \n",
    "  sorted_beams = sorted(new_candidates, key=lambda tup: np.sum(np.log10(tup[2])), reverse=True)\n",
    "  return beams, sorted_beams"
   ]
  },
  {
   "cell_type": "code",
   "execution_count": null,
   "metadata": {
    "id": "EHxQCJ-nADXi"
   },
   "outputs": [],
   "source": [
    "def bi_generator(sent, direction, first_sample_size, sample_size, n_tokens, topk, iterations, temperature):\n",
    "  sent_tokens = tokenizer.encode(sent, add_special_tokens=False) \n",
    "\n",
    "  for i in range(iterations):\n",
    "    if (i % 2 == 0 and direction == 'both') or direction == 'left':\n",
    "      print('>> left side generation')\n",
    "      candidates = candidates_gen(sent_tokens=sent_tokens, d='left', n_candidates=first_sample_size,  topk=topk, temperature=temperature)\n",
    "      beams, sorted_beams = beam_gen(sent_tokens, candidates, n_tokens-1, 'left', sample_size, topk, temperature=temperature)\n",
    "      topn = len(sorted_beams)//5 if len(sorted_beams) > 4 else len(sorted_beams)\n",
    "      selected_candidate = random.choice(sorted_beams[:topn])\n",
    "      sent_tokens = selected_candidate[0] + sent_tokens\n",
    "      print(tokenizer.decode(sent_tokens))\n",
    "    if (i % 2 != 0 and direction == 'both') or direction == 'right':\n",
    "      print('>> right side generation')\n",
    "      candidates = candidates_gen(sent_tokens=sent_tokens, d='right', n_candidates=first_sample_size, topk=topk, temperature=temperature)\n",
    "      beams, sorted_beams = beam_gen(sent_tokens, candidates, n_tokens-1, 'right', sample_size, topk, temperature=temperature)\n",
    "      topn = len(sorted_beams)//5 if len(sorted_beams) > 4 else len(sorted_beams)\n",
    "      selected_candidate = random.choice(sorted_beams[:topn])\n",
    "      sent_tokens = sent_tokens + selected_candidate[0]\n",
    "      print(tokenizer.decode(sent_tokens))\n",
    "    \n",
    "  return tokenizer.decode(sent_tokens)"
   ]
  },
  {
   "cell_type": "code",
   "execution_count": null,
   "metadata": {
    "colab": {
     "base_uri": "https://localhost:8080/"
    },
    "id": "r-_Alk27AGc0",
    "outputId": "aaf465d8-80d4-4a92-b359-dbe4e14868c5"
   },
   "outputs": [
    {
     "name": "stdout",
     "output_type": "stream",
     "text": [
      ">> left side generation\n",
      "Number of beams: 8\n",
      "Number of beams: 16\n",
      "Number of beams: 32\n",
      "(Unstructured text generation is cool\n",
      ">> right side generation\n",
      "Number of beams: 8\n",
      "Number of beams: 16\n",
      "Number of beams: 32\n",
      "(Unstructured text generation is cool for you..\n",
      ">> left side generation\n",
      "Number of beams: 8\n",
      "Number of beams: 16\n",
      "Number of beams: 32\n",
      "ILT Generation (Unstructured text generation is cool for you..\n",
      ">> right side generation\n",
      "Number of beams: 8\n",
      "Number of beams: 16\n",
      "Number of beams: 32\n",
      "ILT Generation (Unstructured text generation is cool for you....? and\n",
      ">> left side generation\n",
      "Number of beams: 8\n",
      "Number of beams: 16\n",
      "Number of beams: 32\n",
      "-- UNIFFILT Generation (Unstructured text generation is cool for you....? and\n",
      ">> right side generation\n",
      "Number of beams: 8\n",
      "Number of beams: 16\n",
      "Number of beams: 32\n",
      "-- UNIFFILT Generation (Unstructured text generation is cool for you....? and that would be nice\n"
     ]
    }
   ],
   "source": [
    "sent = \"text generation is cool\"  \n",
    "first_sample_size = 4\n",
    "sample_size = 2\n",
    "n_tokens = 4\n",
    "topk = 20\n",
    "iterations = 6\n",
    "temperature = 4\n",
    "direction = \"both\"\n",
    "\n",
    "bi_generator(sent, direction, first_sample_size, sample_size, n_tokens, topk, iterations, temperature);"
   ]
  },
  {
   "cell_type": "code",
   "execution_count": null,
   "metadata": {
    "colab": {
     "base_uri": "https://localhost:8080/"
    },
    "id": "WJbainGRD7b3",
    "outputId": "6f2e00c8-8196-4515-912a-36f30b19e4be"
   },
   "outputs": [
    {
     "name": "stdout",
     "output_type": "stream",
     "text": [
      ">> right side generation\n",
      "Number of beams: 12\n",
      "Number of beams: 36\n",
      "Number of beams: 108\n",
      "1. Event: PersonX unwraps PersonY's hands 2. Event: PersonX overcomes evil with good 3. Event: PersonX is fed up with the present situation 4. Event: PersonX breaks PersonX's back 5. Event: PersonX calls no one 6. Event: PersonX never gets angry 7. Event: PersonX does not learn from PersonY 8. Event: PersonX refuses to touch PersonY's hands 9. Event: PersonX looks at flowers 10. Event: PersonX unloads an atomic bomb 11. Event: EventX looks at\n",
      ">> right side generation\n",
      "Number of beams: 12\n",
      "Number of beams: 36\n",
      "Number of beams: 108\n",
      "1. Event: PersonX unwraps PersonY's hands 2. Event: PersonX overcomes evil with good 3. Event: PersonX is fed up with the present situation 4. Event: PersonX breaks PersonX's back 5. Event: PersonX calls no one 6. Event: PersonX never gets angry 7. Event: PersonX does not learn from PersonY 8. Event: PersonX refuses to touch PersonY's hands 9. Event: PersonX looks at flowers 10. Event: PersonX unloads an atomic bomb 11. Event: EventX looks at an atomic bomb and\n",
      ">> right side generation\n",
      "Number of beams: 12\n",
      "Number of beams: 36\n",
      "Number of beams: 108\n",
      "1. Event: PersonX unwraps PersonY's hands 2. Event: PersonX overcomes evil with good 3. Event: PersonX is fed up with the present situation 4. Event: PersonX breaks PersonX's back 5. Event: PersonX calls no one 6. Event: PersonX never gets angry 7. Event: PersonX does not learn from PersonY 8. Event: PersonX refuses to touch PersonY's hands 9. Event: PersonX looks at flowers 10. Event: PersonX unloads an atomic bomb 11. Event: EventX looks at an atomic bomb and gets nervous 13.\n",
      "1. Event: PersonX unwraps PersonY's hands 2. Event: PersonX overcomes evil with good 3. Event: PersonX is fed up with the present situation 4. Event: PersonX breaks PersonX's back 5. Event: PersonX calls no one 6. Event: PersonX never gets angry 7. Event: PersonX does not learn from PersonY 8. Event: PersonX refuses to touch PersonY's hands 9. Event: PersonX looks at flowers 10. Event: PersonX unloads an atomic bomb 11. Event: EventX looks at an atomic bomb and gets nervous 13.\n"
     ]
    }
   ],
   "source": [
    "sent='''1. Event: PersonX unwraps PersonY's hands\n",
    "  2. Event: PersonX overcomes evil with good\n",
    "  3. Event: PersonX is fed up with the present situation\n",
    "  4. Event: PersonX breaks PersonX's back\n",
    "  5. Event: PersonX calls no one\n",
    "  6. Event: PersonX never gets angry\n",
    "  7. Event: PersonX does not learn from PersonY\n",
    "  8. Event: PersonX refuses to touch PersonY's hands\n",
    "  9. Event: PersonX looks at flowers\n",
    "  10. Event: PersonX unloads an atomic bomb\n",
    "  11. Event: '''\n",
    "first_sample_size = 4\n",
    "sample_size = 3\n",
    "n_tokens = 4\n",
    "topk = 10\n",
    "iterations = 3\n",
    "temperature = 4\n",
    "direction = \"right\"\n",
    "\n",
    "s = bi_generator(sent, direction, first_sample_size, sample_size, n_tokens, topk, iterations, temperature)\n",
    "print(s)"
   ]
  },
  {
   "cell_type": "code",
   "execution_count": null,
   "metadata": {
    "colab": {
     "base_uri": "https://localhost:8080/"
    },
    "id": "ciP7BpLqG0rb",
    "outputId": "0edd37b7-aa09-4f7f-cf80-5b5986a0b501"
   },
   "outputs": [
    {
     "name": "stdout",
     "output_type": "stream",
     "text": [
      ">> right side generation\n",
      "Number of beams: 8\n",
      "Number of beams: 16\n",
      "Number of beams: 32\n",
      "1. Event: PersonX unwraps PersonY's hands 2. Event: PersonX overcomes evil with good 3. Event: PersonX is fed up with the present situation 4. Event: PersonX breaks PersonX's back 5. Event: PersonX calls no one 6. Event: PersonX never gets angry 7. Event: PersonX does not learn from PersonY 8. Event: PersonX refuses to touch PersonY's hands 9. Event: PersonX looks at flowers 10. Event: PersonX unloads an atomic bomb 11. Event: PersonX re\n",
      ">> right side generation\n",
      "Number of beams: 8\n",
      "Number of beams: 16\n",
      "Number of beams: 32\n",
      "1. Event: PersonX unwraps PersonY's hands 2. Event: PersonX overcomes evil with good 3. Event: PersonX is fed up with the present situation 4. Event: PersonX breaks PersonX's back 5. Event: PersonX calls no one 6. Event: PersonX never gets angry 7. Event: PersonX does not learn from PersonY 8. Event: PersonX refuses to touch PersonY's hands 9. Event: PersonX looks at flowers 10. Event: PersonX unloads an atomic bomb 11. Event: PersonX re-enters Nar\n",
      "1. Event: PersonX unwraps PersonY's hands 2. Event: PersonX overcomes evil with good 3. Event: PersonX is fed up with the present situation 4. Event: PersonX breaks PersonX's back 5. Event: PersonX calls no one 6. Event: PersonX never gets angry 7. Event: PersonX does not learn from PersonY 8. Event: PersonX refuses to touch PersonY's hands 9. Event: PersonX looks at flowers 10. Event: PersonX unloads an atomic bomb 11. Event: PersonX re-enters Nar\n"
     ]
    }
   ],
   "source": [
    "s = bi_generator(sent, direction, first_sample_size, sample_size, n_tokens, topk, iterations, temperature)\n",
    "print(s)"
   ]
  }
 ],
 "metadata": {
  "colab": {
   "collapsed_sections": [],
   "name": "data_augmentation",
   "provenance": []
  },
  "kernelspec": {
   "display_name": "Python 3 (ipykernel)",
   "language": "python",
   "name": "python3"
  },
  "language_info": {
   "codemirror_mode": {
    "name": "ipython",
    "version": 3
   },
   "file_extension": ".py",
   "mimetype": "text/x-python",
   "name": "python",
   "nbconvert_exporter": "python",
   "pygments_lexer": "ipython3",
   "version": "3.9.10"
  },
  "widgets": {
   "application/vnd.jupyter.widget-state+json": {
    "0260d3d5bb4c4ae49517d1ff68f804f8": {
     "model_module": "@jupyter-widgets/controls",
     "model_module_version": "1.5.0",
     "model_name": "ProgressStyleModel",
     "state": {
      "_model_module": "@jupyter-widgets/controls",
      "_model_module_version": "1.5.0",
      "_model_name": "ProgressStyleModel",
      "_view_count": null,
      "_view_module": "@jupyter-widgets/base",
      "_view_module_version": "1.2.0",
      "_view_name": "StyleView",
      "bar_color": null,
      "description_width": ""
     }
    },
    "07f5b14b4926496b99932c8fd77c02cf": {
     "model_module": "@jupyter-widgets/base",
     "model_module_version": "1.2.0",
     "model_name": "LayoutModel",
     "state": {
      "_model_module": "@jupyter-widgets/base",
      "_model_module_version": "1.2.0",
      "_model_name": "LayoutModel",
      "_view_count": null,
      "_view_module": "@jupyter-widgets/base",
      "_view_module_version": "1.2.0",
      "_view_name": "LayoutView",
      "align_content": null,
      "align_items": null,
      "align_self": null,
      "border": null,
      "bottom": null,
      "display": null,
      "flex": null,
      "flex_flow": null,
      "grid_area": null,
      "grid_auto_columns": null,
      "grid_auto_flow": null,
      "grid_auto_rows": null,
      "grid_column": null,
      "grid_gap": null,
      "grid_row": null,
      "grid_template_areas": null,
      "grid_template_columns": null,
      "grid_template_rows": null,
      "height": null,
      "justify_content": null,
      "justify_items": null,
      "left": null,
      "margin": null,
      "max_height": null,
      "max_width": null,
      "min_height": null,
      "min_width": null,
      "object_fit": null,
      "object_position": null,
      "order": null,
      "overflow": null,
      "overflow_x": null,
      "overflow_y": null,
      "padding": null,
      "right": null,
      "top": null,
      "visibility": null,
      "width": null
     }
    },
    "0b83005365974d2a869ca216701901f9": {
     "model_module": "@jupyter-widgets/controls",
     "model_module_version": "1.5.0",
     "model_name": "FloatProgressModel",
     "state": {
      "_dom_classes": [],
      "_model_module": "@jupyter-widgets/controls",
      "_model_module_version": "1.5.0",
      "_model_name": "FloatProgressModel",
      "_view_count": null,
      "_view_module": "@jupyter-widgets/controls",
      "_view_module_version": "1.5.0",
      "_view_name": "ProgressView",
      "bar_style": "success",
      "description": "",
      "description_tooltip": null,
      "layout": "IPY_MODEL_1356546f84b74c0eaa442d0e846c238f",
      "max": 1441285815,
      "min": 0,
      "orientation": "horizontal",
      "style": "IPY_MODEL_0260d3d5bb4c4ae49517d1ff68f804f8",
      "value": 1441285815
     }
    },
    "0d9afc05da3a4b11a5919162faa9b486": {
     "model_module": "@jupyter-widgets/controls",
     "model_module_version": "1.5.0",
     "model_name": "DescriptionStyleModel",
     "state": {
      "_model_module": "@jupyter-widgets/controls",
      "_model_module_version": "1.5.0",
      "_model_name": "DescriptionStyleModel",
      "_view_count": null,
      "_view_module": "@jupyter-widgets/base",
      "_view_module_version": "1.2.0",
      "_view_name": "StyleView",
      "description_width": ""
     }
    },
    "105b655cc7eb4b4d8255a0f29afeaa96": {
     "model_module": "@jupyter-widgets/controls",
     "model_module_version": "1.5.0",
     "model_name": "HTMLModel",
     "state": {
      "_dom_classes": [],
      "_model_module": "@jupyter-widgets/controls",
      "_model_module_version": "1.5.0",
      "_model_name": "HTMLModel",
      "_view_count": null,
      "_view_module": "@jupyter-widgets/controls",
      "_view_module_version": "1.5.0",
      "_view_name": "HTMLView",
      "description": "",
      "description_tooltip": null,
      "layout": "IPY_MODEL_2987056e0664492f89c50e471ab88c52",
      "placeholder": "​",
      "style": "IPY_MODEL_bda4f0335cd34c2cbbfa772b9d56a97c",
      "value": " 1.34G/1.34G [00:31&lt;00:00, 47.3MB/s]"
     }
    },
    "1356546f84b74c0eaa442d0e846c238f": {
     "model_module": "@jupyter-widgets/base",
     "model_module_version": "1.2.0",
     "model_name": "LayoutModel",
     "state": {
      "_model_module": "@jupyter-widgets/base",
      "_model_module_version": "1.2.0",
      "_model_name": "LayoutModel",
      "_view_count": null,
      "_view_module": "@jupyter-widgets/base",
      "_view_module_version": "1.2.0",
      "_view_name": "LayoutView",
      "align_content": null,
      "align_items": null,
      "align_self": null,
      "border": null,
      "bottom": null,
      "display": null,
      "flex": null,
      "flex_flow": null,
      "grid_area": null,
      "grid_auto_columns": null,
      "grid_auto_flow": null,
      "grid_auto_rows": null,
      "grid_column": null,
      "grid_gap": null,
      "grid_row": null,
      "grid_template_areas": null,
      "grid_template_columns": null,
      "grid_template_rows": null,
      "height": null,
      "justify_content": null,
      "justify_items": null,
      "left": null,
      "margin": null,
      "max_height": null,
      "max_width": null,
      "min_height": null,
      "min_width": null,
      "object_fit": null,
      "object_position": null,
      "order": null,
      "overflow": null,
      "overflow_x": null,
      "overflow_y": null,
      "padding": null,
      "right": null,
      "top": null,
      "visibility": null,
      "width": null
     }
    },
    "1a61c6586e9e44a1966284e27eed9207": {
     "model_module": "@jupyter-widgets/controls",
     "model_module_version": "1.5.0",
     "model_name": "ProgressStyleModel",
     "state": {
      "_model_module": "@jupyter-widgets/controls",
      "_model_module_version": "1.5.0",
      "_model_name": "ProgressStyleModel",
      "_view_count": null,
      "_view_module": "@jupyter-widgets/base",
      "_view_module_version": "1.2.0",
      "_view_name": "StyleView",
      "bar_color": null,
      "description_width": ""
     }
    },
    "2987056e0664492f89c50e471ab88c52": {
     "model_module": "@jupyter-widgets/base",
     "model_module_version": "1.2.0",
     "model_name": "LayoutModel",
     "state": {
      "_model_module": "@jupyter-widgets/base",
      "_model_module_version": "1.2.0",
      "_model_name": "LayoutModel",
      "_view_count": null,
      "_view_module": "@jupyter-widgets/base",
      "_view_module_version": "1.2.0",
      "_view_name": "LayoutView",
      "align_content": null,
      "align_items": null,
      "align_self": null,
      "border": null,
      "bottom": null,
      "display": null,
      "flex": null,
      "flex_flow": null,
      "grid_area": null,
      "grid_auto_columns": null,
      "grid_auto_flow": null,
      "grid_auto_rows": null,
      "grid_column": null,
      "grid_gap": null,
      "grid_row": null,
      "grid_template_areas": null,
      "grid_template_columns": null,
      "grid_template_rows": null,
      "height": null,
      "justify_content": null,
      "justify_items": null,
      "left": null,
      "margin": null,
      "max_height": null,
      "max_width": null,
      "min_height": null,
      "min_width": null,
      "object_fit": null,
      "object_position": null,
      "order": null,
      "overflow": null,
      "overflow_x": null,
      "overflow_y": null,
      "padding": null,
      "right": null,
      "top": null,
      "visibility": null,
      "width": null
     }
    },
    "304299feea17482c8f1aa6730d76bb28": {
     "model_module": "@jupyter-widgets/controls",
     "model_module_version": "1.5.0",
     "model_name": "ProgressStyleModel",
     "state": {
      "_model_module": "@jupyter-widgets/controls",
      "_model_module_version": "1.5.0",
      "_model_name": "ProgressStyleModel",
      "_view_count": null,
      "_view_module": "@jupyter-widgets/base",
      "_view_module_version": "1.2.0",
      "_view_name": "StyleView",
      "bar_color": null,
      "description_width": ""
     }
    },
    "31f2ada09d7e4271b59481f222cf3ba6": {
     "model_module": "@jupyter-widgets/controls",
     "model_module_version": "1.5.0",
     "model_name": "HTMLModel",
     "state": {
      "_dom_classes": [],
      "_model_module": "@jupyter-widgets/controls",
      "_model_module_version": "1.5.0",
      "_model_name": "HTMLModel",
      "_view_count": null,
      "_view_module": "@jupyter-widgets/controls",
      "_view_module_version": "1.5.0",
      "_view_name": "HTMLView",
      "description": "",
      "description_tooltip": null,
      "layout": "IPY_MODEL_6b2017637b7d4c98883a2ddd081cfe07",
      "placeholder": "​",
      "style": "IPY_MODEL_ce725b8677ab4b3ead0c664a93f1a0ba",
      "value": " 779k/779k [00:00&lt;00:00, 632kB/s]"
     }
    },
    "42be35028e364326ada27fc55d9050a3": {
     "model_module": "@jupyter-widgets/controls",
     "model_module_version": "1.5.0",
     "model_name": "DescriptionStyleModel",
     "state": {
      "_model_module": "@jupyter-widgets/controls",
      "_model_module_version": "1.5.0",
      "_model_name": "DescriptionStyleModel",
      "_view_count": null,
      "_view_module": "@jupyter-widgets/base",
      "_view_module_version": "1.2.0",
      "_view_name": "StyleView",
      "description_width": ""
     }
    },
    "488ea705a6364274a7fcaa017e0fec88": {
     "model_module": "@jupyter-widgets/controls",
     "model_module_version": "1.5.0",
     "model_name": "FloatProgressModel",
     "state": {
      "_dom_classes": [],
      "_model_module": "@jupyter-widgets/controls",
      "_model_module_version": "1.5.0",
      "_model_name": "FloatProgressModel",
      "_view_count": null,
      "_view_module": "@jupyter-widgets/controls",
      "_view_module_version": "1.5.0",
      "_view_name": "ProgressView",
      "bar_style": "success",
      "description": "",
      "description_tooltip": null,
      "layout": "IPY_MODEL_c38460acc20e4cacb66a82fd5b8539e5",
      "max": 798011,
      "min": 0,
      "orientation": "horizontal",
      "style": "IPY_MODEL_1a61c6586e9e44a1966284e27eed9207",
      "value": 798011
     }
    },
    "51d98fd6823b4edc86a2d0db859bbb10": {
     "model_module": "@jupyter-widgets/controls",
     "model_module_version": "1.5.0",
     "model_name": "FloatProgressModel",
     "state": {
      "_dom_classes": [],
      "_model_module": "@jupyter-widgets/controls",
      "_model_module_version": "1.5.0",
      "_model_name": "FloatProgressModel",
      "_view_count": null,
      "_view_module": "@jupyter-widgets/controls",
      "_view_module_version": "1.5.0",
      "_view_name": "ProgressView",
      "bar_style": "success",
      "description": "",
      "description_tooltip": null,
      "layout": "IPY_MODEL_b59ae1ce44104b919bc5db17540ba090",
      "max": 761,
      "min": 0,
      "orientation": "horizontal",
      "style": "IPY_MODEL_304299feea17482c8f1aa6730d76bb28",
      "value": 761
     }
    },
    "55e41ea0146d4e68a1114f066aa3e8a5": {
     "model_module": "@jupyter-widgets/controls",
     "model_module_version": "1.5.0",
     "model_name": "DescriptionStyleModel",
     "state": {
      "_model_module": "@jupyter-widgets/controls",
      "_model_module_version": "1.5.0",
      "_model_name": "DescriptionStyleModel",
      "_view_count": null,
      "_view_module": "@jupyter-widgets/base",
      "_view_module_version": "1.2.0",
      "_view_name": "StyleView",
      "description_width": ""
     }
    },
    "5fe481619ae74f3eaa51d5f2f208a809": {
     "model_module": "@jupyter-widgets/base",
     "model_module_version": "1.2.0",
     "model_name": "LayoutModel",
     "state": {
      "_model_module": "@jupyter-widgets/base",
      "_model_module_version": "1.2.0",
      "_model_name": "LayoutModel",
      "_view_count": null,
      "_view_module": "@jupyter-widgets/base",
      "_view_module_version": "1.2.0",
      "_view_name": "LayoutView",
      "align_content": null,
      "align_items": null,
      "align_self": null,
      "border": null,
      "bottom": null,
      "display": null,
      "flex": null,
      "flex_flow": null,
      "grid_area": null,
      "grid_auto_columns": null,
      "grid_auto_flow": null,
      "grid_auto_rows": null,
      "grid_column": null,
      "grid_gap": null,
      "grid_row": null,
      "grid_template_areas": null,
      "grid_template_columns": null,
      "grid_template_rows": null,
      "height": null,
      "justify_content": null,
      "justify_items": null,
      "left": null,
      "margin": null,
      "max_height": null,
      "max_width": null,
      "min_height": null,
      "min_width": null,
      "object_fit": null,
      "object_position": null,
      "order": null,
      "overflow": null,
      "overflow_x": null,
      "overflow_y": null,
      "padding": null,
      "right": null,
      "top": null,
      "visibility": null,
      "width": null
     }
    },
    "6b2017637b7d4c98883a2ddd081cfe07": {
     "model_module": "@jupyter-widgets/base",
     "model_module_version": "1.2.0",
     "model_name": "LayoutModel",
     "state": {
      "_model_module": "@jupyter-widgets/base",
      "_model_module_version": "1.2.0",
      "_model_name": "LayoutModel",
      "_view_count": null,
      "_view_module": "@jupyter-widgets/base",
      "_view_module_version": "1.2.0",
      "_view_name": "LayoutView",
      "align_content": null,
      "align_items": null,
      "align_self": null,
      "border": null,
      "bottom": null,
      "display": null,
      "flex": null,
      "flex_flow": null,
      "grid_area": null,
      "grid_auto_columns": null,
      "grid_auto_flow": null,
      "grid_auto_rows": null,
      "grid_column": null,
      "grid_gap": null,
      "grid_row": null,
      "grid_template_areas": null,
      "grid_template_columns": null,
      "grid_template_rows": null,
      "height": null,
      "justify_content": null,
      "justify_items": null,
      "left": null,
      "margin": null,
      "max_height": null,
      "max_width": null,
      "min_height": null,
      "min_width": null,
      "object_fit": null,
      "object_position": null,
      "order": null,
      "overflow": null,
      "overflow_x": null,
      "overflow_y": null,
      "padding": null,
      "right": null,
      "top": null,
      "visibility": null,
      "width": null
     }
    },
    "74814e49044641f8a4e322416bdf5939": {
     "model_module": "@jupyter-widgets/base",
     "model_module_version": "1.2.0",
     "model_name": "LayoutModel",
     "state": {
      "_model_module": "@jupyter-widgets/base",
      "_model_module_version": "1.2.0",
      "_model_name": "LayoutModel",
      "_view_count": null,
      "_view_module": "@jupyter-widgets/base",
      "_view_module_version": "1.2.0",
      "_view_name": "LayoutView",
      "align_content": null,
      "align_items": null,
      "align_self": null,
      "border": null,
      "bottom": null,
      "display": null,
      "flex": null,
      "flex_flow": null,
      "grid_area": null,
      "grid_auto_columns": null,
      "grid_auto_flow": null,
      "grid_auto_rows": null,
      "grid_column": null,
      "grid_gap": null,
      "grid_row": null,
      "grid_template_areas": null,
      "grid_template_columns": null,
      "grid_template_rows": null,
      "height": null,
      "justify_content": null,
      "justify_items": null,
      "left": null,
      "margin": null,
      "max_height": null,
      "max_width": null,
      "min_height": null,
      "min_width": null,
      "object_fit": null,
      "object_position": null,
      "order": null,
      "overflow": null,
      "overflow_x": null,
      "overflow_y": null,
      "padding": null,
      "right": null,
      "top": null,
      "visibility": null,
      "width": null
     }
    },
    "7e6645c6c5e942d7accf49e7ae170a49": {
     "model_module": "@jupyter-widgets/controls",
     "model_module_version": "1.5.0",
     "model_name": "HBoxModel",
     "state": {
      "_dom_classes": [],
      "_model_module": "@jupyter-widgets/controls",
      "_model_module_version": "1.5.0",
      "_model_name": "HBoxModel",
      "_view_count": null,
      "_view_module": "@jupyter-widgets/controls",
      "_view_module_version": "1.5.0",
      "_view_name": "HBoxView",
      "box_style": "",
      "children": [
       "IPY_MODEL_801dc2cecc024902a3575aaced272ca9",
       "IPY_MODEL_488ea705a6364274a7fcaa017e0fec88",
       "IPY_MODEL_31f2ada09d7e4271b59481f222cf3ba6"
      ],
      "layout": "IPY_MODEL_5fe481619ae74f3eaa51d5f2f208a809"
     }
    },
    "801dc2cecc024902a3575aaced272ca9": {
     "model_module": "@jupyter-widgets/controls",
     "model_module_version": "1.5.0",
     "model_name": "HTMLModel",
     "state": {
      "_dom_classes": [],
      "_model_module": "@jupyter-widgets/controls",
      "_model_module_version": "1.5.0",
      "_model_name": "HTMLModel",
      "_view_count": null,
      "_view_module": "@jupyter-widgets/controls",
      "_view_module_version": "1.5.0",
      "_view_name": "HTMLView",
      "description": "",
      "description_tooltip": null,
      "layout": "IPY_MODEL_07f5b14b4926496b99932c8fd77c02cf",
      "placeholder": "​",
      "style": "IPY_MODEL_55e41ea0146d4e68a1114f066aa3e8a5",
      "value": "Downloading: 100%"
     }
    },
    "8c56e99ae0524db3829886e3fbe37776": {
     "model_module": "@jupyter-widgets/controls",
     "model_module_version": "1.5.0",
     "model_name": "HBoxModel",
     "state": {
      "_dom_classes": [],
      "_model_module": "@jupyter-widgets/controls",
      "_model_module_version": "1.5.0",
      "_model_name": "HBoxModel",
      "_view_count": null,
      "_view_module": "@jupyter-widgets/controls",
      "_view_module_version": "1.5.0",
      "_view_name": "HBoxView",
      "box_style": "",
      "children": [
       "IPY_MODEL_cc8a412f3bc747febb285a5162cb55c4",
       "IPY_MODEL_0b83005365974d2a869ca216701901f9",
       "IPY_MODEL_105b655cc7eb4b4d8255a0f29afeaa96"
      ],
      "layout": "IPY_MODEL_f2ce8a5955794884ae0bc94d2a11b9f8"
     }
    },
    "ac21cf8395a546d7ba93668dd485801a": {
     "model_module": "@jupyter-widgets/base",
     "model_module_version": "1.2.0",
     "model_name": "LayoutModel",
     "state": {
      "_model_module": "@jupyter-widgets/base",
      "_model_module_version": "1.2.0",
      "_model_name": "LayoutModel",
      "_view_count": null,
      "_view_module": "@jupyter-widgets/base",
      "_view_module_version": "1.2.0",
      "_view_name": "LayoutView",
      "align_content": null,
      "align_items": null,
      "align_self": null,
      "border": null,
      "bottom": null,
      "display": null,
      "flex": null,
      "flex_flow": null,
      "grid_area": null,
      "grid_auto_columns": null,
      "grid_auto_flow": null,
      "grid_auto_rows": null,
      "grid_column": null,
      "grid_gap": null,
      "grid_row": null,
      "grid_template_areas": null,
      "grid_template_columns": null,
      "grid_template_rows": null,
      "height": null,
      "justify_content": null,
      "justify_items": null,
      "left": null,
      "margin": null,
      "max_height": null,
      "max_width": null,
      "min_height": null,
      "min_width": null,
      "object_fit": null,
      "object_position": null,
      "order": null,
      "overflow": null,
      "overflow_x": null,
      "overflow_y": null,
      "padding": null,
      "right": null,
      "top": null,
      "visibility": null,
      "width": null
     }
    },
    "b59ae1ce44104b919bc5db17540ba090": {
     "model_module": "@jupyter-widgets/base",
     "model_module_version": "1.2.0",
     "model_name": "LayoutModel",
     "state": {
      "_model_module": "@jupyter-widgets/base",
      "_model_module_version": "1.2.0",
      "_model_name": "LayoutModel",
      "_view_count": null,
      "_view_module": "@jupyter-widgets/base",
      "_view_module_version": "1.2.0",
      "_view_name": "LayoutView",
      "align_content": null,
      "align_items": null,
      "align_self": null,
      "border": null,
      "bottom": null,
      "display": null,
      "flex": null,
      "flex_flow": null,
      "grid_area": null,
      "grid_auto_columns": null,
      "grid_auto_flow": null,
      "grid_auto_rows": null,
      "grid_column": null,
      "grid_gap": null,
      "grid_row": null,
      "grid_template_areas": null,
      "grid_template_columns": null,
      "grid_template_rows": null,
      "height": null,
      "justify_content": null,
      "justify_items": null,
      "left": null,
      "margin": null,
      "max_height": null,
      "max_width": null,
      "min_height": null,
      "min_width": null,
      "object_fit": null,
      "object_position": null,
      "order": null,
      "overflow": null,
      "overflow_x": null,
      "overflow_y": null,
      "padding": null,
      "right": null,
      "top": null,
      "visibility": null,
      "width": null
     }
    },
    "bae804555c89488b9280f0208323a511": {
     "model_module": "@jupyter-widgets/base",
     "model_module_version": "1.2.0",
     "model_name": "LayoutModel",
     "state": {
      "_model_module": "@jupyter-widgets/base",
      "_model_module_version": "1.2.0",
      "_model_name": "LayoutModel",
      "_view_count": null,
      "_view_module": "@jupyter-widgets/base",
      "_view_module_version": "1.2.0",
      "_view_name": "LayoutView",
      "align_content": null,
      "align_items": null,
      "align_self": null,
      "border": null,
      "bottom": null,
      "display": null,
      "flex": null,
      "flex_flow": null,
      "grid_area": null,
      "grid_auto_columns": null,
      "grid_auto_flow": null,
      "grid_auto_rows": null,
      "grid_column": null,
      "grid_gap": null,
      "grid_row": null,
      "grid_template_areas": null,
      "grid_template_columns": null,
      "grid_template_rows": null,
      "height": null,
      "justify_content": null,
      "justify_items": null,
      "left": null,
      "margin": null,
      "max_height": null,
      "max_width": null,
      "min_height": null,
      "min_width": null,
      "object_fit": null,
      "object_position": null,
      "order": null,
      "overflow": null,
      "overflow_x": null,
      "overflow_y": null,
      "padding": null,
      "right": null,
      "top": null,
      "visibility": null,
      "width": null
     }
    },
    "bda4f0335cd34c2cbbfa772b9d56a97c": {
     "model_module": "@jupyter-widgets/controls",
     "model_module_version": "1.5.0",
     "model_name": "DescriptionStyleModel",
     "state": {
      "_model_module": "@jupyter-widgets/controls",
      "_model_module_version": "1.5.0",
      "_model_name": "DescriptionStyleModel",
      "_view_count": null,
      "_view_module": "@jupyter-widgets/base",
      "_view_module_version": "1.2.0",
      "_view_name": "StyleView",
      "description_width": ""
     }
    },
    "c38460acc20e4cacb66a82fd5b8539e5": {
     "model_module": "@jupyter-widgets/base",
     "model_module_version": "1.2.0",
     "model_name": "LayoutModel",
     "state": {
      "_model_module": "@jupyter-widgets/base",
      "_model_module_version": "1.2.0",
      "_model_name": "LayoutModel",
      "_view_count": null,
      "_view_module": "@jupyter-widgets/base",
      "_view_module_version": "1.2.0",
      "_view_name": "LayoutView",
      "align_content": null,
      "align_items": null,
      "align_self": null,
      "border": null,
      "bottom": null,
      "display": null,
      "flex": null,
      "flex_flow": null,
      "grid_area": null,
      "grid_auto_columns": null,
      "grid_auto_flow": null,
      "grid_auto_rows": null,
      "grid_column": null,
      "grid_gap": null,
      "grid_row": null,
      "grid_template_areas": null,
      "grid_template_columns": null,
      "grid_template_rows": null,
      "height": null,
      "justify_content": null,
      "justify_items": null,
      "left": null,
      "margin": null,
      "max_height": null,
      "max_width": null,
      "min_height": null,
      "min_width": null,
      "object_fit": null,
      "object_position": null,
      "order": null,
      "overflow": null,
      "overflow_x": null,
      "overflow_y": null,
      "padding": null,
      "right": null,
      "top": null,
      "visibility": null,
      "width": null
     }
    },
    "c399d712bc214bcba27471ae9a0b8a11": {
     "model_module": "@jupyter-widgets/controls",
     "model_module_version": "1.5.0",
     "model_name": "HTMLModel",
     "state": {
      "_dom_classes": [],
      "_model_module": "@jupyter-widgets/controls",
      "_model_module_version": "1.5.0",
      "_model_name": "HTMLModel",
      "_view_count": null,
      "_view_module": "@jupyter-widgets/controls",
      "_view_module_version": "1.5.0",
      "_view_name": "HTMLView",
      "description": "",
      "description_tooltip": null,
      "layout": "IPY_MODEL_74814e49044641f8a4e322416bdf5939",
      "placeholder": "​",
      "style": "IPY_MODEL_42be35028e364326ada27fc55d9050a3",
      "value": " 761/761 [00:00&lt;00:00, 20.0kB/s]"
     }
    },
    "cc8a412f3bc747febb285a5162cb55c4": {
     "model_module": "@jupyter-widgets/controls",
     "model_module_version": "1.5.0",
     "model_name": "HTMLModel",
     "state": {
      "_dom_classes": [],
      "_model_module": "@jupyter-widgets/controls",
      "_model_module_version": "1.5.0",
      "_model_name": "HTMLModel",
      "_view_count": null,
      "_view_module": "@jupyter-widgets/controls",
      "_view_module_version": "1.5.0",
      "_view_name": "HTMLView",
      "description": "",
      "description_tooltip": null,
      "layout": "IPY_MODEL_da972c7389e4483fba654c9fb028f996",
      "placeholder": "​",
      "style": "IPY_MODEL_d9ae9cdf466640bf9a76f295801bfadd",
      "value": "Downloading: 100%"
     }
    },
    "ce725b8677ab4b3ead0c664a93f1a0ba": {
     "model_module": "@jupyter-widgets/controls",
     "model_module_version": "1.5.0",
     "model_name": "DescriptionStyleModel",
     "state": {
      "_model_module": "@jupyter-widgets/controls",
      "_model_module_version": "1.5.0",
      "_model_name": "DescriptionStyleModel",
      "_view_count": null,
      "_view_module": "@jupyter-widgets/base",
      "_view_module_version": "1.2.0",
      "_view_name": "StyleView",
      "description_width": ""
     }
    },
    "d9ae9cdf466640bf9a76f295801bfadd": {
     "model_module": "@jupyter-widgets/controls",
     "model_module_version": "1.5.0",
     "model_name": "DescriptionStyleModel",
     "state": {
      "_model_module": "@jupyter-widgets/controls",
      "_model_module_version": "1.5.0",
      "_model_name": "DescriptionStyleModel",
      "_view_count": null,
      "_view_module": "@jupyter-widgets/base",
      "_view_module_version": "1.2.0",
      "_view_name": "StyleView",
      "description_width": ""
     }
    },
    "da972c7389e4483fba654c9fb028f996": {
     "model_module": "@jupyter-widgets/base",
     "model_module_version": "1.2.0",
     "model_name": "LayoutModel",
     "state": {
      "_model_module": "@jupyter-widgets/base",
      "_model_module_version": "1.2.0",
      "_model_name": "LayoutModel",
      "_view_count": null,
      "_view_module": "@jupyter-widgets/base",
      "_view_module_version": "1.2.0",
      "_view_name": "LayoutView",
      "align_content": null,
      "align_items": null,
      "align_self": null,
      "border": null,
      "bottom": null,
      "display": null,
      "flex": null,
      "flex_flow": null,
      "grid_area": null,
      "grid_auto_columns": null,
      "grid_auto_flow": null,
      "grid_auto_rows": null,
      "grid_column": null,
      "grid_gap": null,
      "grid_row": null,
      "grid_template_areas": null,
      "grid_template_columns": null,
      "grid_template_rows": null,
      "height": null,
      "justify_content": null,
      "justify_items": null,
      "left": null,
      "margin": null,
      "max_height": null,
      "max_width": null,
      "min_height": null,
      "min_width": null,
      "object_fit": null,
      "object_position": null,
      "order": null,
      "overflow": null,
      "overflow_x": null,
      "overflow_y": null,
      "padding": null,
      "right": null,
      "top": null,
      "visibility": null,
      "width": null
     }
    },
    "e7d1c8bbe31444138771293cda8144d3": {
     "model_module": "@jupyter-widgets/controls",
     "model_module_version": "1.5.0",
     "model_name": "HTMLModel",
     "state": {
      "_dom_classes": [],
      "_model_module": "@jupyter-widgets/controls",
      "_model_module_version": "1.5.0",
      "_model_name": "HTMLModel",
      "_view_count": null,
      "_view_module": "@jupyter-widgets/controls",
      "_view_module_version": "1.5.0",
      "_view_name": "HTMLView",
      "description": "",
      "description_tooltip": null,
      "layout": "IPY_MODEL_ac21cf8395a546d7ba93668dd485801a",
      "placeholder": "​",
      "style": "IPY_MODEL_0d9afc05da3a4b11a5919162faa9b486",
      "value": "Downloading: 100%"
     }
    },
    "f2ce8a5955794884ae0bc94d2a11b9f8": {
     "model_module": "@jupyter-widgets/base",
     "model_module_version": "1.2.0",
     "model_name": "LayoutModel",
     "state": {
      "_model_module": "@jupyter-widgets/base",
      "_model_module_version": "1.2.0",
      "_model_name": "LayoutModel",
      "_view_count": null,
      "_view_module": "@jupyter-widgets/base",
      "_view_module_version": "1.2.0",
      "_view_name": "LayoutView",
      "align_content": null,
      "align_items": null,
      "align_self": null,
      "border": null,
      "bottom": null,
      "display": null,
      "flex": null,
      "flex_flow": null,
      "grid_area": null,
      "grid_auto_columns": null,
      "grid_auto_flow": null,
      "grid_auto_rows": null,
      "grid_column": null,
      "grid_gap": null,
      "grid_row": null,
      "grid_template_areas": null,
      "grid_template_columns": null,
      "grid_template_rows": null,
      "height": null,
      "justify_content": null,
      "justify_items": null,
      "left": null,
      "margin": null,
      "max_height": null,
      "max_width": null,
      "min_height": null,
      "min_width": null,
      "object_fit": null,
      "object_position": null,
      "order": null,
      "overflow": null,
      "overflow_x": null,
      "overflow_y": null,
      "padding": null,
      "right": null,
      "top": null,
      "visibility": null,
      "width": null
     }
    },
    "f9684a459ff2458a9ebdbd3fe7d76ce5": {
     "model_module": "@jupyter-widgets/controls",
     "model_module_version": "1.5.0",
     "model_name": "HBoxModel",
     "state": {
      "_dom_classes": [],
      "_model_module": "@jupyter-widgets/controls",
      "_model_module_version": "1.5.0",
      "_model_name": "HBoxModel",
      "_view_count": null,
      "_view_module": "@jupyter-widgets/controls",
      "_view_module_version": "1.5.0",
      "_view_name": "HBoxView",
      "box_style": "",
      "children": [
       "IPY_MODEL_e7d1c8bbe31444138771293cda8144d3",
       "IPY_MODEL_51d98fd6823b4edc86a2d0db859bbb10",
       "IPY_MODEL_c399d712bc214bcba27471ae9a0b8a11"
      ],
      "layout": "IPY_MODEL_bae804555c89488b9280f0208323a511"
     }
    }
   }
  }
 },
 "nbformat": 4,
 "nbformat_minor": 1
}
