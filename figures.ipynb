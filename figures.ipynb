{
 "cells": [
  {
   "cell_type": "code",
   "execution_count": 1,
   "metadata": {},
   "outputs": [],
   "source": [
    "import os\n",
    "import pandas as pd\n",
    "import matplotlib.pyplot as plt\n",
    "import json"
   ]
  },
  {
   "cell_type": "markdown",
   "metadata": {},
   "source": [
    "## MLM para choice\n",
    "{'lr_mlm': 1e-05, 'mlm_threshold': 0.6000000000000001, 'model_size': 'mini', 'n_epochs_mlm': 10, 'wd_mlm': 0.01}"
   ]
  },
  {
   "cell_type": "code",
   "execution_count": null,
   "metadata": {},
   "outputs": [],
   "source": [
    "filedir = 'models_mlm_mini/' #models_mlm_base, models_mlm_large\n",
    "os_list = os.listdir(filedir)\n",
    "for file in os_list:\n",
    "    df_record = pd.read_csv(filedir+file+'/record.csv', index_col = 0)\n",
    "    dict_config = json.load(open(filedir+file+'/config.json'))\n",
    "    print(dict_config)\n",
    "    print(min(df_record['valid_loss']))\n",
    "    plt.figure()\n",
    "    plt.plot(df_record['glob_cnt'], df_record['train_loss'], color = 'b')\n",
    "    plt.plot(df_record['glob_cnt'], df_record['valid_loss'], color = 'r')\n",
    "    plt.show()"
   ]
  },
  {
   "cell_type": "code",
   "execution_count": null,
   "metadata": {},
   "outputs": [],
   "source": [
    "filedir = 'models_cls_baseline_mini/' #models_mlm_base, models_mlm_large\n",
    "os_list = os.listdir(filedir)\n",
    "for file in os_list:\n",
    "    df_record = pd.read_csv(filedir+file+'/record.csv', index_col = 0)\n",
    "    dict_config = json.load(open(filedir+file+'/config.json'))\n",
    "    print(dict_config)\n",
    "    print(min(df_record['valid_loss']))\n",
    "    plt.figure()\n",
    "    plt.plot(df_record['glob_cnt'], df_record['train_loss'], color = 'b')\n",
    "    plt.plot(df_record['glob_cnt'], df_record['valid_loss'], color = 'r')\n",
    "    plt.show()"
   ]
  },
  {
   "cell_type": "markdown",
   "metadata": {},
   "source": [
    "# TEST on different number of examples"
   ]
  },
  {
   "cell_type": "code",
   "execution_count": 13,
   "metadata": {},
   "outputs": [],
   "source": [
    "import torch\n",
    "from torch.optim import AdamW\n",
    "from transformers import BertTokenizer, BertForSequenceClassification\n",
    "from transformers.adapters import BertAdapterModel\n",
    "import pandas as pd\n",
    "import sys\n",
    "sys.path.append(\"..\")\n",
    "from configuration import CONSTANTS as C\n",
    "from dataset_mlm_cls import MLMDateset, CLSDataset\n",
    "from configuration import Configuration\n",
    "from tqdm import tqdm\n",
    "import os\n",
    "import time\n",
    "from train import evaluate, init_tokenizer_model\n",
    "\n",
    "def test_baseline_cls(config):\n",
    "    TEST_MODEL_DIR = 'models_cls_baseline_'+ config.model_size + '/' +config.test_model_dir +'/'\n",
    "    \n",
    "    tokenizer, model_cls_test = init_tokenizer_model(config)\n",
    "\n",
    "    if config.baseline_with_adapter == 'yes':\n",
    "        # model_cls_test.load_adapter(adapter_name_or_path=TEST_MODEL_DIR + 'cls_adapter/', load_as = 'cls_adapter', set_active = True)\n",
    "        # model_cls_test.load_head(save_directory = TEST_MODEL_DIR + 'cls_adapter_head/', load_as = 'cls')\n",
    "        model_cls_test.add_adapter('cls_adapter', set_active = True)\n",
    "        model_cls_test.add_classification_head('cls')\n",
    "    elif config.baseline_with_adapter == 'no':\n",
    "        # model_cls_test.load_head(save_directory = TEST_MODEL_DIR + 'cls_adapter_head/', load_as = 'cls')\n",
    "        model_cls_test.add_classification_head('cls')\n",
    "    model_cls_test.load_state_dict(torch.load(TEST_MODEL_DIR+'state_dict.pth'))\n",
    "    model_cls_test.to(C.DEVICE)\n",
    "\n",
    "    testset_cls = CLSDataset(test_cls, tokenizer)\n",
    "    testloader_cls = torch.utils.data.DataLoader(testset_cls, batch_size = 16, shuffle = True)\n",
    "\n",
    "    test_loss = evaluate(model_cls_test, testloader_cls)\n",
    "    print(test_loss)\n",
    "    return test_loss\n",
    "\n",
    "def test_enhanced_cls(config):\n",
    "    print(C.DEVICE)\n",
    "    TEST_MODEL_DIR = 'models_cls_enhanced_'+ config.model_size + '/' +config.test_model_dir +'/'\n",
    "    print(TEST_MODEL_DIR)\n",
    "    tokenizer, model_cls_test = init_tokenizer_model(config)\n",
    "    \n",
    "    model_cls_test.add_adapter('cls_adapter', set_active = True)\n",
    "    model_cls_test.add_classification_head('cls')\n",
    "    model_cls_test.load_state_dict(torch.load(TEST_MODEL_DIR+'state_dict.pth'))\n",
    "    model_cls_test.to(C.DEVICE)\n",
    "\n",
    "    test_data = pd.read_csv('data/slang_test.csv')\n",
    "    test_group = test_data.groupby('count')\n",
    "    key_list = []\n",
    "    test_loss_list = []\n",
    "    for key, df_group in test_group:\n",
    "        testset_cls = CLSDataset(df_group, tokenizer)\n",
    "        testloader_cls = torch.utils.data.DataLoader(testset_cls, batch_size = 16, shuffle = True)\n",
    "        test_loss = evaluate(model_cls_test, testloader_cls)\n",
    "        print(key, test_loss)\n",
    "        key_list.append(key)\n",
    "        test_loss_list.append(test_loss)\n",
    "    return key_list, test_loss_list"
   ]
  },
  {
   "cell_type": "code",
   "execution_count": 14,
   "metadata": {},
   "outputs": [
    {
     "name": "stderr",
     "output_type": "stream",
     "text": [
      "Some weights of the model checkpoint at prajjwal1/bert-mini were not used when initializing BertAdapterModel: ['cls.predictions.transform.dense.bias', 'cls.seq_relationship.weight', 'cls.predictions.transform.LayerNorm.weight', 'cls.seq_relationship.bias', 'cls.predictions.decoder.bias', 'cls.predictions.bias', 'cls.predictions.transform.LayerNorm.bias', 'cls.predictions.decoder.weight', 'cls.predictions.transform.dense.weight']\n",
      "- This IS expected if you are initializing BertAdapterModel from the checkpoint of a model trained on another task or with another architecture (e.g. initializing a BertForSequenceClassification model from a BertForPreTraining model).\n",
      "- This IS NOT expected if you are initializing BertAdapterModel from the checkpoint of a model that you expect to be exactly identical (initializing a BertForSequenceClassification model from a BertForSequenceClassification model).\n"
     ]
    },
    {
     "ename": "RuntimeError",
     "evalue": "PytorchStreamReader failed reading zip archive: failed finding central directory",
     "output_type": "error",
     "traceback": [
      "\u001b[0;31m---------------------------------------------------------------------------\u001b[0m",
      "\u001b[0;31mRuntimeError\u001b[0m                              Traceback (most recent call last)",
      "\u001b[1;32m/root/autodl-tmp/CSNLP/Slang-Detection/figures.ipynb Cell 7'\u001b[0m in \u001b[0;36m<cell line: 7>\u001b[0;34m()\u001b[0m\n\u001b[1;32m      <a href='vscode-notebook-cell://ssh-remote%2Bregion-3.autodl.com/root/autodl-tmp/CSNLP/Slang-Detection/figures.ipynb#ch0000007vscode-remote?line=4'>5</a>\u001b[0m dict_test \u001b[39m=\u001b[39m {\u001b[39m'\u001b[39m\u001b[39mmodel_size\u001b[39m\u001b[39m'\u001b[39m: model_size, \u001b[39m'\u001b[39m\u001b[39mtest_model_dir\u001b[39m\u001b[39m'\u001b[39m: model_dir}\n\u001b[1;32m      <a href='vscode-notebook-cell://ssh-remote%2Bregion-3.autodl.com/root/autodl-tmp/CSNLP/Slang-Detection/figures.ipynb#ch0000007vscode-remote?line=5'>6</a>\u001b[0m config \u001b[39m=\u001b[39m Configuration(dict_test)\n\u001b[0;32m----> <a href='vscode-notebook-cell://ssh-remote%2Bregion-3.autodl.com/root/autodl-tmp/CSNLP/Slang-Detection/figures.ipynb#ch0000007vscode-remote?line=6'>7</a>\u001b[0m test_enhanced_cls(config)\n",
      "\u001b[1;32m/root/autodl-tmp/CSNLP/Slang-Detection/figures.ipynb Cell 6'\u001b[0m in \u001b[0;36mtest_enhanced_cls\u001b[0;34m(config)\u001b[0m\n\u001b[1;32m     <a href='vscode-notebook-cell://ssh-remote%2Bregion-3.autodl.com/root/autodl-tmp/CSNLP/Slang-Detection/figures.ipynb#ch0000009vscode-remote?line=43'>44</a>\u001b[0m model_cls_test\u001b[39m.\u001b[39madd_adapter(\u001b[39m'\u001b[39m\u001b[39mcls_adapter\u001b[39m\u001b[39m'\u001b[39m, set_active \u001b[39m=\u001b[39m \u001b[39mTrue\u001b[39;00m)\n\u001b[1;32m     <a href='vscode-notebook-cell://ssh-remote%2Bregion-3.autodl.com/root/autodl-tmp/CSNLP/Slang-Detection/figures.ipynb#ch0000009vscode-remote?line=44'>45</a>\u001b[0m model_cls_test\u001b[39m.\u001b[39madd_classification_head(\u001b[39m'\u001b[39m\u001b[39mcls\u001b[39m\u001b[39m'\u001b[39m)\n\u001b[0;32m---> <a href='vscode-notebook-cell://ssh-remote%2Bregion-3.autodl.com/root/autodl-tmp/CSNLP/Slang-Detection/figures.ipynb#ch0000009vscode-remote?line=45'>46</a>\u001b[0m model_cls_test\u001b[39m.\u001b[39mload_state_dict(torch\u001b[39m.\u001b[39;49mload(TEST_MODEL_DIR\u001b[39m+\u001b[39;49m\u001b[39m'\u001b[39;49m\u001b[39mstate_dict.pth\u001b[39;49m\u001b[39m'\u001b[39;49m))\n\u001b[1;32m     <a href='vscode-notebook-cell://ssh-remote%2Bregion-3.autodl.com/root/autodl-tmp/CSNLP/Slang-Detection/figures.ipynb#ch0000009vscode-remote?line=46'>47</a>\u001b[0m model_cls_test\u001b[39m.\u001b[39mto(C\u001b[39m.\u001b[39mDEVICE)\n\u001b[1;32m     <a href='vscode-notebook-cell://ssh-remote%2Bregion-3.autodl.com/root/autodl-tmp/CSNLP/Slang-Detection/figures.ipynb#ch0000009vscode-remote?line=48'>49</a>\u001b[0m test_data \u001b[39m=\u001b[39m pd\u001b[39m.\u001b[39mread_csv(\u001b[39m'\u001b[39m\u001b[39mdata/slang_test.csv\u001b[39m\u001b[39m'\u001b[39m)\n",
      "File \u001b[0;32m~/miniconda3/envs/csnlp/lib/python3.9/site-packages/torch/serialization.py:600\u001b[0m, in \u001b[0;36mload\u001b[0;34m(f, map_location, pickle_module, **pickle_load_args)\u001b[0m\n\u001b[1;32m    595\u001b[0m \u001b[39mif\u001b[39;00m _is_zipfile(opened_file):\n\u001b[1;32m    596\u001b[0m     \u001b[39m# The zipfile reader is going to advance the current file position.\u001b[39;00m\n\u001b[1;32m    597\u001b[0m     \u001b[39m# If we want to actually tail call to torch.jit.load, we need to\u001b[39;00m\n\u001b[1;32m    598\u001b[0m     \u001b[39m# reset back to the original position.\u001b[39;00m\n\u001b[1;32m    599\u001b[0m     orig_position \u001b[39m=\u001b[39m opened_file\u001b[39m.\u001b[39mtell()\n\u001b[0;32m--> 600\u001b[0m     \u001b[39mwith\u001b[39;00m _open_zipfile_reader(opened_file) \u001b[39mas\u001b[39;00m opened_zipfile:\n\u001b[1;32m    601\u001b[0m         \u001b[39mif\u001b[39;00m _is_torchscript_zip(opened_zipfile):\n\u001b[1;32m    602\u001b[0m             warnings\u001b[39m.\u001b[39mwarn(\u001b[39m\"\u001b[39m\u001b[39m'\u001b[39m\u001b[39mtorch.load\u001b[39m\u001b[39m'\u001b[39m\u001b[39m received a zip file that looks like a TorchScript archive\u001b[39m\u001b[39m\"\u001b[39m\n\u001b[1;32m    603\u001b[0m                           \u001b[39m\"\u001b[39m\u001b[39m dispatching to \u001b[39m\u001b[39m'\u001b[39m\u001b[39mtorch.jit.load\u001b[39m\u001b[39m'\u001b[39m\u001b[39m (call \u001b[39m\u001b[39m'\u001b[39m\u001b[39mtorch.jit.load\u001b[39m\u001b[39m'\u001b[39m\u001b[39m directly to\u001b[39m\u001b[39m\"\u001b[39m\n\u001b[1;32m    604\u001b[0m                           \u001b[39m\"\u001b[39m\u001b[39m silence this warning)\u001b[39m\u001b[39m\"\u001b[39m, \u001b[39mUserWarning\u001b[39;00m)\n",
      "File \u001b[0;32m~/miniconda3/envs/csnlp/lib/python3.9/site-packages/torch/serialization.py:242\u001b[0m, in \u001b[0;36m_open_zipfile_reader.__init__\u001b[0;34m(self, name_or_buffer)\u001b[0m\n\u001b[1;32m    241\u001b[0m \u001b[39mdef\u001b[39;00m \u001b[39m__init__\u001b[39m(\u001b[39mself\u001b[39m, name_or_buffer) \u001b[39m-\u001b[39m\u001b[39m>\u001b[39m \u001b[39mNone\u001b[39;00m:\n\u001b[0;32m--> 242\u001b[0m     \u001b[39msuper\u001b[39m(_open_zipfile_reader, \u001b[39mself\u001b[39m)\u001b[39m.\u001b[39m\u001b[39m__init__\u001b[39m(torch\u001b[39m.\u001b[39;49m_C\u001b[39m.\u001b[39;49mPyTorchFileReader(name_or_buffer))\n",
      "\u001b[0;31mRuntimeError\u001b[0m: PytorchStreamReader failed reading zip archive: failed finding central directory"
     ]
    }
   ],
   "source": [
    "import pandas as pd\n",
    "model_size = 'mini'\n",
    "model_dir = 'model_1657655623'\n",
    "\n",
    "dict_test = {'model_size': model_size, 'test_model_dir': model_dir}\n",
    "config = Configuration(dict_test)\n",
    "test_enhanced_cls(config)\n",
    "\n",
    "\n",
    "    "
   ]
  },
  {
   "cell_type": "code",
   "execution_count": null,
   "metadata": {},
   "outputs": [],
   "source": []
  }
 ],
 "metadata": {
  "kernelspec": {
   "display_name": "Python 3.9.12 ('csnlp')",
   "language": "python",
   "name": "python3"
  },
  "language_info": {
   "codemirror_mode": {
    "name": "ipython",
    "version": 3
   },
   "file_extension": ".py",
   "mimetype": "text/x-python",
   "name": "python",
   "nbconvert_exporter": "python",
   "pygments_lexer": "ipython3",
   "version": "3.9.12"
  },
  "orig_nbformat": 4,
  "vscode": {
   "interpreter": {
    "hash": "255ed9c75ef5a61e382eb5cb6e5c2f6e567dc0c7567d7c7edfafde07a9b1e13b"
   }
  }
 },
 "nbformat": 4,
 "nbformat_minor": 2
}
